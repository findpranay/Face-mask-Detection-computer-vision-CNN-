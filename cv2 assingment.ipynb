{
 "cells": [
  {
   "cell_type": "code",
   "execution_count": 54,
   "id": "cb744bf8",
   "metadata": {},
   "outputs": [],
   "source": [
    "import numpy as np\n",
    "import cv2\n",
    "from keras.models import load_model\n",
    "\n",
    "model = load_model('C:/Users/Yaniv/Desktop/assaingment/face-mask-detection-keras-master/model.model')\n"
   ]
  },
  {
   "cell_type": "code",
   "execution_count": 114,
   "id": "3e355f6b",
   "metadata": {},
   "outputs": [],
   "source": [
    "\n",
    "#img = cv2.imread('C:/Users/Yaniv/Desktop/assaingment/human.jpg')'C:/Users/Yaniv/Desktop/ww.mp4'\n",
    "source=cv2.VideoCapture(0)\n",
    "face_clsfr=cv2.CascadeClassifier('C:/Users/Yaniv/AppData/Local/Packages/PythonSoftwareFoundation.Python.3.10_qbz5n2kfra8p0/LocalCache/local-packages/Python310/site-packages/cv2/data/haarcascade_fullbody.xml')\n",
    "\n",
    "labels_dict={0:'NO MASK',1:'MASK'}\n",
    "color_dict={0:(0,0,255),1:(0,255,0)}"
   ]
  },
  {
   "cell_type": "code",
   "execution_count": 115,
   "id": "bd1f69b6",
   "metadata": {},
   "outputs": [],
   "source": [
    "def rescaleFrame(frame,scale=1.5):\n",
    "    width=int(frame.shape[1]*scale)\n",
    "    height=int(frame.shape[0]*scale)\n",
    "    dimensions=(width,height)\n",
    "    return cv2.resize(frame,dimensions,interpolation=cv2.INTER_AREA)\n",
    "\n"
   ]
  },
  {
   "cell_type": "code",
   "execution_count": 116,
   "id": "942f4cdf",
   "metadata": {},
   "outputs": [],
   "source": [
    "font = cv2.FONT_HERSHEY_SIMPLEX\n",
    "org = (50, 50)  \n",
    "fontScale = 1\n",
    "color = (255, 0, 0)\n",
    "thickness = 2\n",
    "counts=0\n",
    "m=\"lll\"\n",
    "s=\"\"\n",
    "d=\"\""
   ]
  },
  {
   "cell_type": "code",
   "execution_count": 117,
   "id": "1e2a490e",
   "metadata": {},
   "outputs": [
    {
     "name": "stdout",
     "output_type": "stream",
     "text": [
      "1/1 [==============================] - 0s 41ms/step\n",
      "0\n",
      "290 214 386 193\n",
      "1/1 [==============================] - 0s 38ms/step\n",
      "0\n",
      "308 237 386 193\n",
      "1/1 [==============================] - 0s 35ms/step\n",
      "0\n",
      "305 228 386 193\n",
      "1/1 [==============================] - 0s 37ms/step\n",
      "1\n",
      "308 253 386 193\n",
      "1/1 [==============================] - 0s 40ms/step\n",
      "0\n",
      "307 234 386 193\n",
      "1/1 [==============================] - 0s 40ms/step\n",
      "1\n",
      "305 225 386 193\n",
      "1/1 [==============================] - 0s 39ms/step\n",
      "0\n",
      "305 250 386 193\n",
      "1/1 [==============================] - 0s 37ms/step\n",
      "0\n",
      "303 255 386 193\n",
      "1/1 [==============================] - 0s 36ms/step\n",
      "0\n",
      "303 255 386 193\n",
      "1/1 [==============================] - 0s 39ms/step\n",
      "1\n",
      "307 270 386 193\n"
     ]
    }
   ],
   "source": [
    "while(True):\n",
    "\n",
    "    ret,img=source.read()\n",
    "    i=rescaleFrame(img)\n",
    "    gray=cv2.cvtColor(i,cv2.COLOR_BGR2GRAY)\n",
    "    faces=face_clsfr.detectMultiScale(gray,1.3,5)\n",
    "    \n",
    "    #print(ret)\n",
    "    #print(img)\n",
    "\n",
    "\n",
    "    for (x,y,w,h) in faces:\n",
    "    \n",
    "        face_img=gray[y:y+w,x:x+w]\n",
    "        resized=cv2.resize(face_img,(100,100))\n",
    "        normalized=resized/255.0\n",
    "        reshaped=np.reshape(normalized,(1,100,100,1))\n",
    "        result=model.predict(reshaped)\n",
    "       \n",
    "        label=np.argmax(result,axis=1)[0]\n",
    "        print(label)\n",
    "      \n",
    "        cv2.rectangle(i,(x,y),(x+w,y+h),color_dict[label],2)\n",
    "        print(x,y,h,w)\n",
    "        cv2.rectangle(i,(x,y-40),(x+w,y),color_dict[label],-1)\n",
    "        cv2.putText(i, labels_dict[label], (x, y-10),cv2.FONT_HERSHEY_SIMPLEX,0.8,(255,255,255),2)\n",
    "      \n",
    "           \n",
    "        \n",
    "         \n",
    "       \n",
    "        cv2.rectangle(i,(x,y),(x+w,y+h),(255,0,0),5)\n",
    "        if (x,y,w,h) in faces and counts<=2:\n",
    "            counts=1\n",
    "            \n",
    "            s=\"Person ID:\"+str(counts)\n",
    "         \n",
    "     \n",
    "\n",
    "\n",
    "    \n",
    "# or frame_count = vcap.get(7)\n",
    "        \n",
    "\n",
    "    cv2.putText(i,s, (50, 50), font, 1, (0, 0, 255), 2, cv2.LINE_4)\n",
    "        #cv2.putText(img,m, org, font,fontScale, color, thickness, cv2.LINE_AA)\n",
    "    cv2.imshow('LIVE',i)\n",
    "    key=cv2.waitKey(1)\n",
    "    \n",
    "    if(key==27):\n",
    "        break\n",
    "        \n",
    "cv2.destroyAllWindows()\n",
    "source.release()"
   ]
  },
  {
   "cell_type": "code",
   "execution_count": null,
   "id": "fea87b6b",
   "metadata": {},
   "outputs": [],
   "source": []
  }
 ],
 "metadata": {
  "kernelspec": {
   "display_name": "Python 3 (ipykernel)",
   "language": "python",
   "name": "python3"
  },
  "language_info": {
   "codemirror_mode": {
    "name": "ipython",
    "version": 3
   },
   "file_extension": ".py",
   "mimetype": "text/x-python",
   "name": "python",
   "nbconvert_exporter": "python",
   "pygments_lexer": "ipython3",
   "version": "3.9.12"
  }
 },
 "nbformat": 4,
 "nbformat_minor": 5
}
