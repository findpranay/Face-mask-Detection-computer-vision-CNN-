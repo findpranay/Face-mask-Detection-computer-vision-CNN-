{
 "cells": [
  {
   "cell_type": "code",
   "execution_count": 8,
   "metadata": {},
   "outputs": [],
   "source": [
    "import numpy as np\n",
    "\n",
    "data=np.load('data.npy')\n",
    "target=np.load('target.npy')\n",
    "\n",
    "#loading the save numpy arrays in the previous code"
   ]
  },
  {
   "cell_type": "code",
   "execution_count": 9,
   "metadata": {},
   "outputs": [],
   "source": [
    "from keras.models import Sequential\n",
    "from keras.layers import Dense,Activation,Flatten,Dropout\n",
    "from keras.layers import Conv2D,MaxPooling2D\n",
    "from keras.callbacks import ModelCheckpoint\n",
    "\n",
    "model=Sequential()\n",
    "\n",
    "model.add(Conv2D(200,(3,3),input_shape=data.shape[1:]))\n",
    "model.add(Activation('relu'))\n",
    "model.add(MaxPooling2D(pool_size=(2,2)))\n",
    "\n",
    "model.add(Conv2D(100,(3,3)))\n",
    "model.add(Activation('relu'))\n",
    "model.add(MaxPooling2D(pool_size=(2,2)))\n",
    "\n",
    "model.add(Flatten())\n",
    "model.add(Dropout(0.5))\n",
    "model.add(Dense(50,activation='relu'))\n",
    "model.add(Dense(2,activation='softmax'))\n",
    "\n",
    "model.compile(loss='categorical_crossentropy',optimizer='adam',metrics=['accuracy'])"
   ]
  },
  {
   "cell_type": "code",
   "execution_count": 10,
   "metadata": {},
   "outputs": [],
   "source": [
    "from sklearn.model_selection import train_test_split\n",
    "\n",
    "train_data,test_data,train_target,test_target=train_test_split(data,target,test_size=0.1)"
   ]
  },
  {
   "cell_type": "code",
   "execution_count": 11,
   "metadata": {},
   "outputs": [
    {
     "name": "stdout",
     "output_type": "stream",
     "text": [
      "Epoch 1/20\n",
      "86/86 [==============================] - ETA: 0s - loss: 0.6279 - accuracy: 0.6646"
     ]
    },
    {
     "name": "stderr",
     "output_type": "stream",
     "text": [
      "WARNING:absl:Found untraced functions such as _jit_compiled_convolution_op, _jit_compiled_convolution_op while saving (showing 2 of 2). These functions will not be directly callable after loading.\n"
     ]
    },
    {
     "name": "stdout",
     "output_type": "stream",
     "text": [
      "INFO:tensorflow:Assets written to: model.model\\assets\n"
     ]
    },
    {
     "name": "stderr",
     "output_type": "stream",
     "text": [
      "INFO:tensorflow:Assets written to: model.model\\assets\n"
     ]
    },
    {
     "name": "stdout",
     "output_type": "stream",
     "text": [
      "86/86 [==============================] - 122s 1s/step - loss: 0.6279 - accuracy: 0.6646 - val_loss: 0.4681 - val_accuracy: 0.7945\n",
      "Epoch 2/20\n",
      "86/86 [==============================] - ETA: 0s - loss: 0.4676 - accuracy: 0.7718"
     ]
    },
    {
     "name": "stderr",
     "output_type": "stream",
     "text": [
      "WARNING:absl:Found untraced functions such as _jit_compiled_convolution_op, _jit_compiled_convolution_op while saving (showing 2 of 2). These functions will not be directly callable after loading.\n"
     ]
    },
    {
     "name": "stdout",
     "output_type": "stream",
     "text": [
      "INFO:tensorflow:Assets written to: model.model\\assets\n"
     ]
    },
    {
     "name": "stderr",
     "output_type": "stream",
     "text": [
      "INFO:tensorflow:Assets written to: model.model\\assets\n"
     ]
    },
    {
     "name": "stdout",
     "output_type": "stream",
     "text": [
      "86/86 [==============================] - 89s 1s/step - loss: 0.4676 - accuracy: 0.7718 - val_loss: 0.3585 - val_accuracy: 0.8484\n",
      "Epoch 3/20\n",
      "86/86 [==============================] - ETA: 0s - loss: 0.3721 - accuracy: 0.8400"
     ]
    },
    {
     "name": "stderr",
     "output_type": "stream",
     "text": [
      "WARNING:absl:Found untraced functions such as _jit_compiled_convolution_op, _jit_compiled_convolution_op while saving (showing 2 of 2). These functions will not be directly callable after loading.\n"
     ]
    },
    {
     "name": "stdout",
     "output_type": "stream",
     "text": [
      "INFO:tensorflow:Assets written to: model.model\\assets\n"
     ]
    },
    {
     "name": "stderr",
     "output_type": "stream",
     "text": [
      "INFO:tensorflow:Assets written to: model.model\\assets\n"
     ]
    },
    {
     "name": "stdout",
     "output_type": "stream",
     "text": [
      "86/86 [==============================] - 97s 1s/step - loss: 0.3721 - accuracy: 0.8400 - val_loss: 0.3273 - val_accuracy: 0.8746\n",
      "Epoch 4/20\n",
      "86/86 [==============================] - ETA: 0s - loss: 0.3188 - accuracy: 0.8666"
     ]
    },
    {
     "name": "stderr",
     "output_type": "stream",
     "text": [
      "WARNING:absl:Found untraced functions such as _jit_compiled_convolution_op, _jit_compiled_convolution_op while saving (showing 2 of 2). These functions will not be directly callable after loading.\n"
     ]
    },
    {
     "name": "stdout",
     "output_type": "stream",
     "text": [
      "INFO:tensorflow:Assets written to: model.model\\assets\n"
     ]
    },
    {
     "name": "stderr",
     "output_type": "stream",
     "text": [
      "INFO:tensorflow:Assets written to: model.model\\assets\n"
     ]
    },
    {
     "name": "stdout",
     "output_type": "stream",
     "text": [
      "86/86 [==============================] - 89s 1s/step - loss: 0.3188 - accuracy: 0.8666 - val_loss: 0.2756 - val_accuracy: 0.8819\n",
      "Epoch 5/20\n",
      "86/86 [==============================] - ETA: 0s - loss: 0.2608 - accuracy: 0.8870"
     ]
    },
    {
     "name": "stderr",
     "output_type": "stream",
     "text": [
      "WARNING:absl:Found untraced functions such as _jit_compiled_convolution_op, _jit_compiled_convolution_op while saving (showing 2 of 2). These functions will not be directly callable after loading.\n"
     ]
    },
    {
     "name": "stdout",
     "output_type": "stream",
     "text": [
      "INFO:tensorflow:Assets written to: model.model\\assets\n"
     ]
    },
    {
     "name": "stderr",
     "output_type": "stream",
     "text": [
      "INFO:tensorflow:Assets written to: model.model\\assets\n"
     ]
    },
    {
     "name": "stdout",
     "output_type": "stream",
     "text": [
      "86/86 [==============================] - 90s 1s/step - loss: 0.2608 - accuracy: 0.8870 - val_loss: 0.2416 - val_accuracy: 0.9096\n",
      "Epoch 6/20\n",
      "86/86 [==============================] - 90s 1s/step - loss: 0.2299 - accuracy: 0.9030 - val_loss: 0.3220 - val_accuracy: 0.8659\n",
      "Epoch 7/20\n",
      "86/86 [==============================] - ETA: 0s - loss: 0.2102 - accuracy: 0.9118"
     ]
    },
    {
     "name": "stderr",
     "output_type": "stream",
     "text": [
      "WARNING:absl:Found untraced functions such as _jit_compiled_convolution_op, _jit_compiled_convolution_op while saving (showing 2 of 2). These functions will not be directly callable after loading.\n"
     ]
    },
    {
     "name": "stdout",
     "output_type": "stream",
     "text": [
      "INFO:tensorflow:Assets written to: model.model\\assets\n"
     ]
    },
    {
     "name": "stderr",
     "output_type": "stream",
     "text": [
      "INFO:tensorflow:Assets written to: model.model\\assets\n"
     ]
    },
    {
     "name": "stdout",
     "output_type": "stream",
     "text": [
      "86/86 [==============================] - 90s 1s/step - loss: 0.2102 - accuracy: 0.9118 - val_loss: 0.2086 - val_accuracy: 0.9169\n",
      "Epoch 8/20\n",
      "86/86 [==============================] - 89s 1s/step - loss: 0.1597 - accuracy: 0.9340 - val_loss: 0.2814 - val_accuracy: 0.8688\n",
      "Epoch 9/20\n",
      "86/86 [==============================] - 86s 996ms/step - loss: 0.1481 - accuracy: 0.9457 - val_loss: 0.2187 - val_accuracy: 0.9082\n",
      "Epoch 10/20\n",
      "86/86 [==============================] - 86s 996ms/step - loss: 0.1039 - accuracy: 0.9610 - val_loss: 0.2483 - val_accuracy: 0.9213\n",
      "Epoch 11/20\n",
      "86/86 [==============================] - 89s 1s/step - loss: 0.1071 - accuracy: 0.9566 - val_loss: 0.2313 - val_accuracy: 0.9125\n",
      "Epoch 12/20\n",
      "86/86 [==============================] - 90s 1s/step - loss: 0.0935 - accuracy: 0.9683 - val_loss: 0.2273 - val_accuracy: 0.9242\n",
      "Epoch 13/20\n",
      "86/86 [==============================] - ETA: 0s - loss: 0.0873 - accuracy: 0.9665"
     ]
    },
    {
     "name": "stderr",
     "output_type": "stream",
     "text": [
      "WARNING:absl:Found untraced functions such as _jit_compiled_convolution_op, _jit_compiled_convolution_op while saving (showing 2 of 2). These functions will not be directly callable after loading.\n"
     ]
    },
    {
     "name": "stdout",
     "output_type": "stream",
     "text": [
      "INFO:tensorflow:Assets written to: model.model\\assets\n"
     ]
    },
    {
     "name": "stderr",
     "output_type": "stream",
     "text": [
      "INFO:tensorflow:Assets written to: model.model\\assets\n"
     ]
    },
    {
     "name": "stdout",
     "output_type": "stream",
     "text": [
      "86/86 [==============================] - 94s 1s/step - loss: 0.0873 - accuracy: 0.9665 - val_loss: 0.2081 - val_accuracy: 0.9227\n",
      "Epoch 14/20\n",
      "86/86 [==============================] - 87s 1s/step - loss: 0.0615 - accuracy: 0.9778 - val_loss: 0.2416 - val_accuracy: 0.9257\n",
      "Epoch 15/20\n",
      "86/86 [==============================] - 87s 1s/step - loss: 0.0477 - accuracy: 0.9843 - val_loss: 0.2233 - val_accuracy: 0.9271\n",
      "Epoch 16/20\n",
      "86/86 [==============================] - 87s 1s/step - loss: 0.0585 - accuracy: 0.9792 - val_loss: 0.2612 - val_accuracy: 0.9096\n",
      "Epoch 17/20\n",
      "86/86 [==============================] - 85s 988ms/step - loss: 0.0463 - accuracy: 0.9861 - val_loss: 0.2395 - val_accuracy: 0.9286\n",
      "Epoch 18/20\n",
      "86/86 [==============================] - 87s 1s/step - loss: 0.0367 - accuracy: 0.9876 - val_loss: 0.2452 - val_accuracy: 0.9271\n",
      "Epoch 19/20\n",
      "86/86 [==============================] - 86s 999ms/step - loss: 0.0334 - accuracy: 0.9865 - val_loss: 0.2236 - val_accuracy: 0.9329\n",
      "Epoch 20/20\n",
      "86/86 [==============================] - 86s 999ms/step - loss: 0.0365 - accuracy: 0.9887 - val_loss: 0.2344 - val_accuracy: 0.9227\n"
     ]
    }
   ],
   "source": [
    "checkpoint = ModelCheckpoint('model.model',monitor='val_loss',verbose=0,save_best_only=True,mode='auto')\n",
    "history=model.fit(train_data,train_target,epochs=20,callbacks=[checkpoint],validation_split=0.2)"
   ]
  },
  {
   "cell_type": "code",
   "execution_count": 12,
   "metadata": {},
   "outputs": [
    {
     "data": {
      "image/png": "[encoded data removed]",
      "text/plain": [
       "<Figure size 432x288 with 1 Axes>"
      ]
     },
     "metadata": {
      "needs_background": "light"
     },
     "output_type": "display_data"
    }
   ],
   "source": [
    "from matplotlib import pyplot as plt\n",
    "\n",
    "plt.plot(history.history['loss'],'r',label='training loss')\n",
    "plt.plot(history.history['val_loss'],label='validation loss')\n",
    "plt.xlabel('# epochs')\n",
    "plt.ylabel('loss')\n",
    "plt.legend()\n",
    "plt.show()"
   ]
  },
  {
   "cell_type": "code",
   "execution_count": 12,
   "metadata": {},
   "outputs": [
    {
     "data": {
      "image/png": "[encoded data removed]",
      "text/plain": [
       "<Figure size 432x288 with 1 Axes>"
      ]
     },
     "metadata": {
      "needs_background": "light"
     },
     "output_type": "display_data"
    }
   ],
   "source": [
    "plt.plot(history.history['accuracy'],'r',label='training accuracy')\n",
    "plt.plot(history.history['val_accuracy'],label='validation accuracy')\n",
    "plt.xlabel('# epochs')\n",
    "plt.ylabel('loss')\n",
    "plt.legend()\n",
    "plt.show()"
   ]
  },
  {
   "cell_type": "code",
   "execution_count": 13,
   "metadata": {},
   "outputs": [
    {
     "name": "stdout",
     "output_type": "stream",
     "text": [
      "12/12 [==============================] - 3s 257ms/step - loss: 0.1628 - accuracy: 0.9475\n",
      "[0.16283859312534332, 0.9475065469741821]\n"
     ]
    }
   ],
   "source": [
    "print(model.evaluate(test_data,test_target))"
   ]
  },
  {
   "cell_type": "code",
   "execution_count": null,
   "metadata": {},
   "outputs": [],
   "source": []
  },
  {
   "cell_type": "code",
   "execution_count": null,
   "metadata": {},
   "outputs": [],
   "source": []
  }
 ],
 "metadata": {
  "kernelspec": {
   "display_name": "Python 3 (ipykernel)",
   "language": "python",
   "name": "python3"
  },
  "language_info": {
   "codemirror_mode": {
    "name": "ipython",
    "version": 3
   },
   "file_extension": ".py",
   "mimetype": "text/x-python",
   "name": "python",
   "nbconvert_exporter": "python",
   "pygments_lexer": "ipython3",
   "version": "3.9.12"
  }
 },
 "nbformat": 4,
 "nbformat_minor": 2
}
